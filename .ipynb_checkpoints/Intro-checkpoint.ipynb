{
 "cells": [
  {
   "cell_type": "code",
   "execution_count": 1,
   "metadata": {},
   "outputs": [],
   "source": [
    "import numpy as np\n",
    "import torch\n",
    "from torch import nn, optim\n",
    "import random"
   ]
  },
  {
   "cell_type": "markdown",
   "metadata": {},
   "source": [
    "# Como Hacer Una Red Neuronal _Artificial_ Con Un Cordón De Zapatos\n",
    "\n",
    "<img width=400 src=\"images/mcgiver.jpg\" >\n",
    "\n",
    "## Empecemos por el principio... ¿Machine Learning? ¿Deep Learning? ¿Neural Networks?\n",
    "\n",
    "<img width=400 src=\"images/ml_dl.png\" >\n",
    "\n",
    "El Machine learning consiste en conseguir que un algoritmo genérico que no es capaz de resolver una tarea, la resuelva... ¿Como? Modificandose a si mismo poco a poco... En comparación al DL, el ML más clasico funciona bastante bien incluso con pocos datos, por lo que los experimentos con 'perceptrones' (las primeras redes neuronales) en los años 50 se abandonaron rápido.\n",
    "\n",
    "<img width=200 src=\"images/training.gif\" >\n",
    "\n",
    "Pero el Machine Learning tradicional tiene sus limitaciones, no escala bien con muchos datos y cuando empezamos a ser capaces de recopilar cantidades considerables de datos, y a tener ordenadores lo suficientemente potentes, el Deep Learning empezó a tomar la delantera!!! (1998 Yann LeCun)"
   ]
  },
  {
   "cell_type": "markdown",
   "metadata": {},
   "source": [
    "# En qué consiste el Deep Learning?\n",
    "\n",
    "<img width=300 src=\"images/deep_learning_meme4.jpg\" >\n",
    "\n",
    "El Deep Learning usa principalmente como bloque de construcción Redes Neuronales Artificiales, creando nuevas redes **profundas** encadenando redes sencillas una tras otra. \n",
    "\n",
    "Vale, ya tenemos una idea aproximada de qué es el machine learning, y el deep learning, pero...\n",
    "\n",
    "## ¿En qué consiste una Red Neuronal Artificial?"
   ]
  },
  {
   "cell_type": "markdown",
   "metadata": {},
   "source": [
    "# La \"neurona\"\n",
    "\n",
    "![neurone](images/neurone.png)\n",
    "\n",
    "## Representación matemática\n",
    "\n",
    "\\begin{equation}\n",
    "y = ax + b\n",
    "\\end{equation}\n",
    "\n",
    "\\begin{equation}\n",
    "y = Wx + b\n",
    "\\end{equation}\n",
    "\n",
    "Por ejemplo:\n",
    "\\begin{equation}\n",
    "0.2 = 0.05 * 4\n",
    "\\end{equation}\n"
   ]
  },
  {
   "cell_type": "code",
   "execution_count": 2,
   "metadata": {},
   "outputs": [
    {
     "name": "stdout",
     "output_type": "stream",
     "text": [
      "y = 0.2\n"
     ]
    }
   ],
   "source": [
    "x = 4\n",
    "W = 0.05\n",
    "\n",
    "y = W * x\n",
    "\n",
    "print(\"y =\", y)"
   ]
  },
  {
   "cell_type": "markdown",
   "metadata": {},
   "source": [
    "\\begin{equation}\n",
    "1.5 = W * 6\n",
    "\\end{equation}\n",
    "\n",
    "Partamos del mismo problema pero suponiendo que no conocemos el valor de W"
   ]
  },
  {
   "cell_type": "code",
   "execution_count": 22,
   "metadata": {},
   "outputs": [
    {
     "name": "stdout",
     "output_type": "stream",
     "text": [
      "W = 0.37725023281877074\n",
      "y = 2.2635013969126243\n"
     ]
    }
   ],
   "source": [
    "x = 6\n",
    "W = random.uniform(0, 0.5)\n",
    "\n",
    "y = W * x\n",
    "print(\"W =\", W)\n",
    "print(\"y =\", y)"
   ]
  },
  {
   "cell_type": "markdown",
   "metadata": {},
   "source": [
    "Queríamos que el resultado de la ecuación fuese 1.5, pero tenemos otro valor...\n",
    "\n",
    "Empecemos por calcular por cuanto nos hemos equivocado"
   ]
  },
  {
   "cell_type": "code",
   "execution_count": 23,
   "metadata": {},
   "outputs": [
    {
     "name": "stdout",
     "output_type": "stream",
     "text": [
      "Queremos 1.5, pero y = 2.2635013969126243\n",
      "Nuestro error es de 0.7635013969126243\n"
     ]
    }
   ],
   "source": [
    "error = y - 1.5\n",
    "\n",
    "print(\"Queremos 1.5, pero y =\", y)\n",
    "print(\"Nuestro error es de\", error)"
   ]
  },
  {
   "cell_type": "markdown",
   "metadata": {},
   "source": [
    "Vamos a intentar modificar W en base a cuánto nos hemos equivocado"
   ]
  },
  {
   "cell_type": "code",
   "execution_count": 25,
   "metadata": {},
   "outputs": [
    {
     "name": "stdout",
     "output_type": "stream",
     "text": [
      "y =  2.2635013969126243\n",
      "Tras modificar W, y = 1.80540055876505\n"
     ]
    }
   ],
   "source": [
    "y = W * x\n",
    "print(\"y = \", y)\n",
    "\n",
    "nuevo_W = W - error # * 0.1\n",
    "y = nuevo_W * x\n",
    "\n",
    "print(\"Tras modificar W, y =\", y)"
   ]
  },
  {
   "cell_type": "markdown",
   "metadata": {},
   "source": [
    "Si damos pasos muy grandes nos pasamos y nunca llegamos al mínimo, así que mejor dar pasos pequeñitos\n",
    "\n",
    "![lr](images/learningrate.png)"
   ]
  },
  {
   "cell_type": "code",
   "execution_count": 19,
   "metadata": {},
   "outputs": [
    {
     "name": "stdout",
     "output_type": "stream",
     "text": [
      "Tras 100 pasos, y = 1.5023081417070694 y W = 0.25038469028451155\n"
     ]
    }
   ],
   "source": [
    "for i in range(100):\n",
    "    y = W * x\n",
    "    error = y - 1.5\n",
    "    W = W - error * 0.01\n",
    "\n",
    "y = W * x\n",
    "print(\"Tras 100 pasos, y =\", y, \"y W =\", W)"
   ]
  },
  {
   "cell_type": "markdown",
   "metadata": {},
   "source": [
    "### Y así tenemos nuestra primera neurona!!!\n",
    "\n",
    "<img src=\"images/hommer.jpg\">"
   ]
  },
  {
   "cell_type": "markdown",
   "metadata": {},
   "source": [
    "# Capas de neuronas\n",
    "\n",
    "Hemos visto una neurona con **un** valor de entrada y **un** valor de salida que equivale a una ecuación lineal:\n",
    "\n",
    "\\begin{equation}\n",
    "y = W * x + b\n",
    "\\end{equation}\n",
    "\n",
    "Pero... ¿Cómo sería una neurona con varios valores de entrada?  \n",
    "Sencillamente tendremos varios x y varios W.\n",
    "\n",
    "\n",
    "\\begin{equation}\n",
    "y = (W1 * x1) + (W2 * x2) + ... + (Wn * xn) + b\n",
    "\\end{equation}\n",
    "\n",
    "![lr](images/multi_in.png)\n",
    "\n",
    "¿Y si queremos varios valores de salida?  \n",
    "Como hemos visto antes, usamos una ecuación lineal que nos permite tener varios x, pero solo un y, por lo que para tener varios valores de salida necesitamos... ¡ MAS NEURONAS ! Lo que significa más ecuaciones:\n",
    "\n",
    "\\begin{equation}\n",
    "y1 = (W11 * x1) + (W21 * x2) + ... + (Wn1 * xn) + b1  \n",
    "\\end{equation}\n",
    "\\begin{equation}\n",
    "y2 = (W12 * x1) + (W22 * x2) + ... + (Wn2 * xn) + b2 \n",
    "\\end{equation}\n",
    "\\begin{equation}\n",
    "...\n",
    "\\end{equation}\n",
    "\\begin{equation}\n",
    "ym = (W1m * x1) + (W2m * x2) + ... + (Wnm * xn) + bm \n",
    "\\end{equation}\n",
    "\n",
    "![lr](images/multi_in_out.png)\n",
    "\n",
    "Cada una de estas neuronas recibe todos los inputs y devuelve un único output, y tenemos una forma más bonita de representarlas, usando matrices:\n",
    "\n",
    "![lr](images/matrices.png)\n"
   ]
  },
  {
   "cell_type": "markdown",
   "metadata": {},
   "source": [
    "# De 'Shallow' a 'Deep' \n",
    "\n",
    "Ya sabemos cómo crear una capa de neuronas usando ecuaciones lineales, con multiples inputs y multiples outputs.\n",
    "\n",
    "Sin embargo, al ser operaciones lineales las relaciones que la red será capaz de extraer de los inputs serán lineales, así que para solucionar esto vamos a encadenar varias capas de neuronas, pasando los outputs de una de nuestras capas a la siguiente, y añadiendo una operación no-lineal entre ellas.\n",
    "\n",
    "Cuantas más capas añadamos, más compleja es la representación de los datos que podemos obtener:\n",
    "![lr](images/layer_sizes.jpeg)"
   ]
  },
  {
   "cell_type": "markdown",
   "metadata": {},
   "source": [
    "# Todo esto ya parece muy dificil de hacer... No hay algo que me lo de ya hecho?\n",
    "\n",
    "Por supuesto, a la hora de trabajar con redes neuronales no definimos las operaciones una a una, ni tenemos que calcular nosotros mismos las pendientes de las distintas curvas, sino que usamos frameworks que nos abstraen de todo esto.\n",
    "\n",
    "Por ejemplo, probemos con PyTorch y su maravilloso autograd"
   ]
  },
  {
   "cell_type": "code",
   "execution_count": null,
   "metadata": {},
   "outputs": [],
   "source": [
    "network = nn.Sequential(\n",
    "    nn.Linear(3, 6),\n",
    "    nn.Sigmoid(),\n",
    "    nn.Linear(6, 3)\n",
    ")"
   ]
  },
  {
   "cell_type": "markdown",
   "metadata": {},
   "source": [
    "# MINI DEMO: NeuroCar\n",
    "\n",
    "<img width=200 style=\"display:inline-block;\" src=\"images/neurocar.png\" />\n",
    "<br/><br/><br/><br/>\n",
    "\n",
    "Notebook: [NeuroCar.ipynb](NeuroCar.ipynb)"
   ]
  },
  {
   "cell_type": "code",
   "execution_count": null,
   "metadata": {},
   "outputs": [],
   "source": [
    "!open \"NeuroCar/application.macosx/NeuroCar.app\""
   ]
  },
  {
   "cell_type": "markdown",
   "metadata": {},
   "source": [
    "# ¿Qué más se puede hacer con Deep Learning?\n",
    "\n",
    "¡Muchisimas cosas! El Deep Learning está presente en muchas areas, en conducción autónoma, medicina, astronomía, comunicación, sistemas de recomendación, arte...\n",
    "\n",
    "<img src=\"images/selfdriving.gif\">\n",
    "\n",
    "### Generación de texto\n",
    "https://talktotransformer.com/\n",
    "\n",
    "<img width=400 src=\"images/gpt2.png\">\n",
    "\n",
    "### Generación de imágenes\n",
    "https://thispersondoesnotexist.com/\n",
    "\n",
    "<img width=200 src=\"images/gan.jpeg\">\n",
    "\n",
    "# En mi trabajo...\n",
    "\n",
    "- Evaluación de la calidad del lenguaje\n",
    "- Detección de temas controvertidos\n",
    "- Detección de manipulación en imágenes\n",
    "- Sistemas de recomendación\n",
    "\n",
    "<img width=400 src=\"images/deep_learning_meme2.png\">"
   ]
  },
  {
   "cell_type": "code",
   "execution_count": null,
   "metadata": {},
   "outputs": [],
   "source": []
  }
 ],
 "metadata": {
  "kernelspec": {
   "display_name": "Python 3",
   "language": "python",
   "name": "python3"
  },
  "language_info": {
   "codemirror_mode": {
    "name": "ipython",
    "version": 3
   },
   "file_extension": ".py",
   "mimetype": "text/x-python",
   "name": "python",
   "nbconvert_exporter": "python",
   "pygments_lexer": "ipython3",
   "version": "3.6.5"
  }
 },
 "nbformat": 4,
 "nbformat_minor": 2
}
