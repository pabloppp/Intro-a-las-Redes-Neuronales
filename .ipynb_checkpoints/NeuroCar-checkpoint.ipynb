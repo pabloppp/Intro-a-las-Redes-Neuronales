{
 "cells": [
  {
   "cell_type": "code",
   "execution_count": 2,
   "metadata": {},
   "outputs": [],
   "source": [
    "import torch\n",
    "from torch import nn, optim\n",
    "import numpy as np\n",
    "import socket"
   ]
  },
  {
   "cell_type": "markdown",
   "metadata": {},
   "source": [
    "# NeuroCar"
   ]
  },
  {
   "cell_type": "markdown",
   "metadata": {},
   "source": [
    "### El problema a resolver?\n",
    "![image](images/in_out.png)"
   ]
  },
  {
   "cell_type": "code",
   "execution_count": 3,
   "metadata": {},
   "outputs": [
    {
     "data": {
      "text/plain": [
       "tensor([[0., 0., 0., 1.],\n",
       "        [1., 0., 1., 0.],\n",
       "        [0., 0., 1., 0.],\n",
       "        [1., 0., 1., 0.],\n",
       "        [0., 0., 1., 0.]])"
      ]
     },
     "execution_count": 3,
     "metadata": {},
     "output_type": "execute_result"
    }
   ],
   "source": [
    "with open(\"NeuroCar/records_working.txt\", \"r\") as file:\n",
    "    records = file.readlines()\n",
    "    \n",
    "records = torch.tensor([list(map(int, r.split())) for r in records]).float()\n",
    "records[:5]"
   ]
  },
  {
   "cell_type": "markdown",
   "metadata": {},
   "source": [
    "## Nuestra Red Neuronal Profunda\n",
    "\n",
    "![neural](images/neural_net.png)"
   ]
  },
  {
   "cell_type": "code",
   "execution_count": 4,
   "metadata": {
    "scrolled": true
   },
   "outputs": [],
   "source": [
    "mlp = nn.Sequential(\n",
    "    nn.Linear(3, 6),\n",
    "    nn.ReLU(),\n",
    "    nn.Linear(6, 3)\n",
    ")"
   ]
  },
  {
   "cell_type": "code",
   "execution_count": 6,
   "metadata": {},
   "outputs": [
    {
     "data": {
      "text/plain": [
       "<All keys matched successfully>"
      ]
     },
     "execution_count": 6,
     "metadata": {},
     "output_type": "execute_result"
    }
   ],
   "source": [
    "# mlp.load_state_dict(torch.load(\"model_working.pt\")) #model_working.pt"
   ]
  },
  {
   "cell_type": "markdown",
   "metadata": {},
   "source": [
    "## Entrenamos nuestra red neuronal"
   ]
  },
  {
   "cell_type": "code",
   "execution_count": null,
   "metadata": {},
   "outputs": [],
   "source": [
    "epochs = 10000\n",
    "\n",
    "optimizer = optim.Adam(mlp.parameters(), lr=0.01)\n",
    "criterion = nn.CrossEntropyLoss()\n",
    "\n",
    "for e in range(1, epochs+1):\n",
    "    x = records[:, :-1]\n",
    "    y = records[:, -1].long() + 1\n",
    "    pred = mlp.forward(records[:, :-1])\n",
    "    loss = criterion(pred, y)\n",
    "    \n",
    "    optimizer.zero_grad()\n",
    "    loss.backward()\n",
    "    optimizer.step()\n",
    "    \n",
    "    if e % 1000 == 0:\n",
    "        print(f\"EPOCH {e} - loss {loss.item()}\")"
   ]
  },
  {
   "cell_type": "code",
   "execution_count": null,
   "metadata": {},
   "outputs": [],
   "source": [
    "torch.save(mlp.state_dict(), \"model.pt\")"
   ]
  },
  {
   "cell_type": "markdown",
   "metadata": {},
   "source": [
    "## Cómo de bien funciona?"
   ]
  },
  {
   "cell_type": "code",
   "execution_count": null,
   "metadata": {
    "scrolled": false
   },
   "outputs": [],
   "source": [
    "mlp.eval()\n",
    "with torch.no_grad():\n",
    "    pred = mlp.forward(records[:, :-1])\n",
    "    pred = pred.argmax(dim=-1) - 1\n",
    "    acc = (pred == records[:, -1].long()).float().mean()\n",
    "    print(f\"Accuracy {100*acc:.2f}%\")\n",
    "    for s, e, p in list(zip(records[:, :-1], records[:, -1:], pred))[:50]:\n",
    "        print(f\"{s.int().tolist()} E: {int(e.item())}\\t P: {p.item()} {'wrong' if p.item() != e.item() else ''}\")"
   ]
  },
  {
   "cell_type": "markdown",
   "metadata": {},
   "source": [
    "## Conectamos con el juego"
   ]
  },
  {
   "cell_type": "code",
   "execution_count": null,
   "metadata": {
    "scrolled": false
   },
   "outputs": [],
   "source": [
    "HOST = ''   # Symbolic name, meaning all available interfaces\n",
    "PORT = 5204 # Arbitrary non-privileged port\n",
    "\n",
    "s = socket.socket(socket.AF_INET, socket.SOCK_STREAM)\n",
    "print('Socket created')\n",
    "\n",
    "try:\n",
    "    s.bind((HOST, PORT))\n",
    "except socket.error as msg:\n",
    "    print('# Bind failed. ')\n",
    "    \n",
    "print('Socket bind complete')\n",
    "\n",
    "s.listen(1)\n",
    "print('Socket now listening')\n",
    "\n",
    "conn, addr = s.accept()\n",
    "print('# Connected to ' + addr[0] + ':' + str(addr[1]))\n",
    "\n",
    "while True:  \n",
    "    data = conn.recv(1024)\n",
    "    if not data: break\n",
    "    line = data.decode('UTF-8')\n",
    "    line = list(map(int, line.replace(\"\\n\",\"\").split()))\n",
    "    line = torch.tensor([line]).float()\n",
    "    with torch.no_grad():\n",
    "        pred = mlp.forward(line)[0].softmax(-1)\n",
    "        if pred.max() > 0.8:\n",
    "            pred = (pred.argmax(dim=-1) - 1).item()\n",
    "        else:\n",
    "            pred = (torch.multinomial(pred / 1.2, 1) - 1).item()\n",
    "    conn.sendall(str(pred).encode('utf-8'))\n",
    "    # print(line[0].tolist(), \">>\" ,pred)\n",
    "    \n",
    "conn.close()\n",
    "print(\"Connection closed\")"
   ]
  },
  {
   "cell_type": "code",
   "execution_count": null,
   "metadata": {},
   "outputs": [],
   "source": [
    "conn.close()"
   ]
  },
  {
   "cell_type": "code",
   "execution_count": null,
   "metadata": {},
   "outputs": [],
   "source": []
  }
 ],
 "metadata": {
  "kernelspec": {
   "display_name": "Python 3",
   "language": "python",
   "name": "python3"
  },
  "language_info": {
   "codemirror_mode": {
    "name": "ipython",
    "version": 3
   },
   "file_extension": ".py",
   "mimetype": "text/x-python",
   "name": "python",
   "nbconvert_exporter": "python",
   "pygments_lexer": "ipython3",
   "version": "3.6.5"
  }
 },
 "nbformat": 4,
 "nbformat_minor": 2
}
